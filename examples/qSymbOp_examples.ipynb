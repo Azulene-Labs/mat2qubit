{
 "cells": [
  {
   "cell_type": "markdown",
   "metadata": {},
   "source": [
    "## Symbolic manipulation of quantum operators."
   ]
  },
  {
   "cell_type": "code",
   "execution_count": 2,
   "metadata": {},
   "outputs": [],
   "source": [
    "# Copyright (C) 2020-2022 Intel Corporation\n",
    "# SPDX-License-Identifier: Apache-2.0\n",
    "\n",
    "import numpy as np\n",
    "import mat2qubit as m2q"
   ]
  },
  {
   "cell_type": "markdown",
   "metadata": {},
   "source": [
    "### Define two symbolic operators"
   ]
  },
  {
   "cell_type": "code",
   "execution_count": 3,
   "metadata": {},
   "outputs": [
    {
     "name": "stdout",
     "output_type": "stream",
     "text": [
      "Particles \\{A,B,C\\}\n",
      "\n",
      "symbolic_op1:\n",
      "(k) [n_A]\n",
      "++ (j) [p_B]\n",
      "\n",
      "symbolic_op2:\n",
      "(k) [q_A]\n",
      "++ (-r) [p_C]\n"
     ]
    }
   ],
   "source": [
    "# Define symoblic operator\n",
    "symbolic_op1 = m2q.qSymbOp(\"k [n_A] ++ j [p_B]\")\n",
    "symbolic_op2 = m2q.qSymbOp(\"k [q_A] ++ -r [p_C]\")\n",
    "print(\"Particles \\{A,B,C\\}\")\n",
    "print(\"\\nsymbolic_op1:\")\n",
    "print(symbolic_op1)\n",
    "print(\"\\nsymbolic_op2:\")\n",
    "print(symbolic_op2)\n"
   ]
  },
  {
   "cell_type": "markdown",
   "metadata": {},
   "source": [
    "### Algebra: Multiply two operators"
   ]
  },
  {
   "cell_type": "code",
   "execution_count": 4,
   "metadata": {},
   "outputs": [
    {
     "name": "stdout",
     "output_type": "stream",
     "text": [
      "symb_product\n",
      "(k**2) [n_A q_A]\n",
      "++ (-k*r) [n_A p_C]\n",
      "++ (j*k) [p_B q_A]\n",
      "++ (-j*r) [p_B p_C]\n"
     ]
    }
   ],
   "source": [
    "# Product of operators\n",
    "symb_product = symbolic_op1*symbolic_op2\n",
    "print(\"symb_product\")\n",
    "print(symb_product)\n"
   ]
  },
  {
   "cell_type": "markdown",
   "metadata": {},
   "source": [
    "### Subsitute symbolic scalars for numerical values"
   ]
  },
  {
   "cell_type": "code",
   "execution_count": 5,
   "metadata": {},
   "outputs": [
    {
     "name": "stdout",
     "output_type": "stream",
     "text": [
      "Symbolic consts --> numeric consts:\n",
      "((4.41+0j)) [n_A q_A]\n",
      "++ ((-6.300000000000001+0j)) [n_A p_C]\n",
      "++ ((6.5973445725385655+0j)) [p_B q_A]\n",
      "++ ((-9.42477796076938+0j)) [p_B p_C]\n"
     ]
    }
   ],
   "source": [
    "# Define constants\n",
    "vals = {'k':2.1, 'j':np.pi, 'r':3.}\n",
    "\n",
    "# Subsitute numbers in for variables\n",
    "symb_product.scalar_subs(vals) \n",
    "# print(type(symb_product))\n",
    "print(\"Symbolic consts --> numeric consts:\")\n",
    "print(symb_product)\n"
   ]
  },
  {
   "cell_type": "markdown",
   "metadata": {},
   "source": [
    "### Convert to ```mat2qubit``` object"
   ]
  },
  {
   "cell_type": "code",
   "execution_count": 7,
   "metadata": {
    "scrolled": true
   },
   "outputs": [
    {
     "name": "stdout",
     "output_type": "stream",
     "text": [
      "<class 'mat2qubit.dLevelSystemEncodings.compositeOperator'>\n",
      "\n",
      "[(4.41, ((0, 'numop'), (0, 'q'))), (-6.300000000000001, ((0, 'numop'), (2, 'qhoMom'))), (6.5973445725385655, ((1, 'qhoMom'), (0, 'q'))), (-9.42477796076938, ((1, 'qhoMom'), (2, 'qhoMom')))]\n",
      "\n",
      "7.530991329804303 [X0] +\n",
      "3.3075 [X0 X1] +\n",
      "(-0.8537592112383647+0j) [X0 X1 Y2] +\n",
      "(3.1862727537715068+0j) [X0 X1 Y2 Z3] +\n",
      "(-1.6493361431346414+0j) [X0 X1 Z2 Y3] +\n",
      "(1.6493361431346414+0j) [X0 X1 Y3] +\n",
      "-1.1025j [X0 Y1] +\n",
      "-5.971820877287966 [X0 Z1] +\n",
      "(0.44193828760038967+0j) [X0 Z1 Y2] +\n",
      "(-1.649336143134641+0j) [X0 Z1 Y2 Z3] +\n",
      "(0.8537592112383647+0j) [X0 Z1 Z2 Y3] +\n",
      "(-0.8537592112383647+0j) [X0 Z1 Y3] +\n",
      "(-1.649336143134641+0j) [X0 Y2] +\n",
      "(6.1554062849381745+0j) [X0 Y2 Z3] +\n",
      "(-3.1862727537715068+0j) [X0 Z2 Y3] +\n",
      "(3.1862727537715068+0j) [X0 Y3] +\n",
      "-2.1298664469673954j [Y0] +\n",
      "1.1025j [Y0 X1] +\n",
      "(3.3075+0j) [Y0 Y1] +\n",
      "(-0.8537592112383647+0j) [Y0 Y1 Y2] +\n",
      "(3.1862727537715068+0j) [Y0 Y1 Y2 Z3] +\n",
      "(-1.6493361431346414+0j) [Y0 Y1 Z2 Y3] +\n",
      "(1.6493361431346414+0j) [Y0 Y1 Y3] +\n",
      "0.5706959944510582j [Y0 Z1] +\n",
      "(1.1136931803688124+0j) [Z0 X4 X5 Y6] +\n",
      "(0.7875000000000001+0j) [Z0 X4 Y5] +\n",
      "(-1.1136931803688124+0j) [Z0 X4 Y5 X6] +\n",
      "(0.7875000000000001+0j) [Z0 X4 Y5 Z6] +\n",
      "(2.7664800050965814+0j) [Z0 Y4] +\n",
      "(-0.7875000000000001+0j) [Z0 Y4 X5] +\n",
      "(-1.1136931803688124+0j) [Z0 Y4 X5 X6] +\n",
      "(-0.7875000000000001+0j) [Z0 Y4 X5 Z6] +\n",
      "(-1.1136931803688124+0j) [Z0 Y4 Y5 Y6] +\n",
      "(0.8375068326548292+0j) [Z0 Y4 Z5] +\n",
      "(-1.6527868247277697+0j) [Z0 Y4 Z5 Z6] +\n",
      "(0.2761863477139832+0j) [Z0 Y4 Z6] +\n",
      "(2.2273863607376247+0j) [Z1 X4 X5 Y6] +\n",
      "(1.5750000000000002+0j) [Z1 X4 Y5] +\n",
      "(-2.2273863607376247+0j) [Z1 X4 Y5 X6] +\n",
      "(1.5750000000000002+0j) [Z1 X4 Y5 Z6] +\n",
      "(5.532960010193163+0j) [Z1 Y4] +\n",
      "(-1.5750000000000002+0j) [Z1 Y4 X5] +\n",
      "(-2.2273863607376247+0j) [Z1 Y4 X5 X6] +\n",
      "(-1.5750000000000002+0j) [Z1 Y4 X5 Z6] +\n",
      "(-2.2273863607376247+0j) [Z1 Y4 Y5 Y6] +\n",
      "(1.6750136653096583+0j) [Z1 Y4 Z5] +\n",
      "(-3.3055736494555394+0j) [Z1 Y4 Z5 Z6] +\n",
      "(0.5523726954279664+0j) [Z1 Y4 Z6] +\n",
      "(-3.218621529859667+0j) [Y2 Z3 X4 X5 Y6] +\n",
      "(-2.2759091098367903+0j) [Y2 Z3 X4 Y5] +\n",
      "(3.218621529859667+0j) [Y2 Z3 X4 Y5 X6] +\n",
      "(-2.2759091098367903+0j) [Y2 Z3 X4 Y5 Z6] +\n",
      "(-7.995247042261131+0j) [Y2 Z3 Y4] +\n",
      "(2.2759091098367903+0j) [Y2 Z3 Y4 X5] +\n",
      "(3.218621529859667+0j) [Y2 Z3 Y4 X5 X6] +\n",
      "(2.2759091098367903+0j) [Y2 Z3 Y4 X5 Z6] +\n",
      "(3.218621529859667+0j) [Y2 Z3 Y4 Y5 Y6] +\n",
      "(-2.42043102220912+0j) [Y2 Z3 Y4 Z5] +\n",
      "(4.7766255124014645+0j) [Y2 Z3 Y4 Z5 Z6] +\n",
      "(-0.798190507650547+0j) [Y2 Z3 Y4 Z6] +\n",
      "(0.8624270396673225+0j) [Y2 X4 X5 Y6] +\n",
      "(0.6098280080274033+0j) [Y2 X4 Y5] +\n",
      "(-0.8624270396673225+0j) [Y2 X4 Y5 X6] +\n",
      "(0.6098280080274033+0j) [Y2 X4 Y5 Z6] +\n",
      "(2.142319988261192+0j) [Y2 Y4] +\n",
      "(-0.6098280080274033+0j) [Y2 Y4 X5] +\n",
      "(-0.8624270396673225+0j) [Y2 Y4 X5 X6] +\n",
      "(-0.6098280080274033+0j) [Y2 Y4 X5 Z6] +\n",
      "(-0.8624270396673225+0j) [Y2 Y4 Y5 Y6] +\n",
      "(0.6485525377361705+0j) [Y2 Y4 Z5] +\n",
      "(-1.2798929485938702+0j) [Y2 Y4 Z5 Z6] +\n",
      "(0.2138745019311519+0j) [Y2 Y4 Z6] +\n",
      "(1.666081101809387+0j) [Z2 Y3 X4 X5 Y6] +\n",
      "(1.1780972450961724+0j) [Z2 Y3 X4 Y5] +\n",
      "(-1.666081101809387+0j) [Z2 Y3 X4 Y5 X6] +\n",
      "(1.1780972450961724+0j) [Z2 Y3 X4 Y5 Z6] +\n",
      "(4.138644409673558+0j) [Z2 Y3 Y4] +\n",
      "(-1.1780972450961724+0j) [Z2 Y3 Y4 X5] +\n",
      "(-1.666081101809387+0j) [Z2 Y3 Y4 X5 X6] +\n",
      "(-1.1780972450961724+0j) [Z2 Y3 Y4 X5 Z6] +\n",
      "(-1.666081101809387+0j) [Z2 Y3 Y4 Y5 Y6] +\n",
      "(1.2529072918093653+0j) [Z2 Y3 Y4 Z5] +\n",
      "(-2.472563307864172+0j) [Z2 Y3 Y4 Z5 Z6] +\n",
      "(0.41317381000002174+0j) [Z2 Y3 Y4 Z6] +\n",
      "(-1.666081101809387+0j) [Y3 X4 X5 Y6] +\n",
      "(-1.1780972450961724+0j) [Y3 X4 Y5] +\n",
      "(1.666081101809387+0j) [Y3 X4 Y5 X6] +\n",
      "(-1.1780972450961724+0j) [Y3 X4 Y5 Z6] +\n",
      "(-4.138644409673558+0j) [Y3 Y4] +\n",
      "(1.1780972450961724+0j) [Y3 Y4 X5] +\n",
      "(1.666081101809387+0j) [Y3 Y4 X5 X6] +\n",
      "(1.1780972450961724+0j) [Y3 Y4 X5 Z6] +\n",
      "(1.666081101809387+0j) [Y3 Y4 Y5 Y6] +\n",
      "(-1.2529072918093653+0j) [Y3 Y4 Z5] +\n",
      "(2.472563307864172+0j) [Y3 Y4 Z5 Z6] +\n",
      "(-0.41317381000002174+0j) [Y3 Y4 Z6] +\n",
      "(-3.341079541106437+0j) [X4 X5 Y6] +\n",
      "(-2.3625000000000003+0j) [X4 Y5] +\n",
      "(3.341079541106437+0j) [X4 Y5 X6] +\n",
      "(-2.3625000000000003+0j) [X4 Y5 Z6] +\n",
      "(-8.299440015289745+0j) [Y4] +\n",
      "(2.3625000000000003+0j) [Y4 X5] +\n",
      "(3.341079541106437+0j) [Y4 X5 X6] +\n",
      "(2.3625000000000003+0j) [Y4 X5 Z6] +\n",
      "(3.341079541106437+0j) [Y4 Y5 Y6] +\n",
      "(-2.5125204979644877+0j) [Y4 Z5] +\n",
      "(4.958360474183309+0j) [Y4 Z5 Z6] +\n",
      "(-0.8285590431419495+0j) [Y4 Z6]\n"
     ]
    }
   ],
   "source": [
    "# To convert to mat2qubit objects, first define these three dicts.\n",
    "ssid_order = ['A','B','C']\n",
    "ssid_to_d = dict(zip(ssid_order,[4,4,6]))  \n",
    "ssid_to_enc = dict(zip(ssid_order,['stdbinary','gray','stdbinary'])) # Mixed mappings\n",
    "\n",
    "dlev_obj = m2q.symbop_to_dlevcompositeop(symb_product,  ssid_order,ssid_to_d,ssid_to_enc)\n",
    "\n",
    "print(type(dlev_obj));print()\n",
    "print(dlev_obj);print()\n",
    "\n",
    "# Convert to Qubit-based Pauli operator (openfermion)\n",
    "pauli = dlev_obj.opToPauli()\n",
    "print(pauli)\n",
    "\n"
   ]
  },
  {
   "cell_type": "code",
   "execution_count": null,
   "metadata": {},
   "outputs": [],
   "source": []
  },
  {
   "cell_type": "code",
   "execution_count": null,
   "metadata": {},
   "outputs": [],
   "source": []
  },
  {
   "cell_type": "code",
   "execution_count": null,
   "metadata": {},
   "outputs": [],
   "source": []
  }
 ],
 "metadata": {
  "kernelspec": {
   "display_name": "Python 3 (ipykernel)",
   "language": "python",
   "name": "python3"
  },
  "language_info": {
   "codemirror_mode": {
    "name": "ipython",
    "version": 3
   },
   "file_extension": ".py",
   "mimetype": "text/x-python",
   "name": "python",
   "nbconvert_exporter": "python",
   "pygments_lexer": "ipython3",
   "version": "3.7.7"
  }
 },
 "nbformat": 4,
 "nbformat_minor": 4
}
